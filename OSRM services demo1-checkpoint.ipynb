{
 "cells": [
  {
   "cell_type": "markdown",
   "id": "729837c5",
   "metadata": {},
   "source": [
    "# Route Service"
   ]
  },
  {
   "cell_type": "code",
   "execution_count": 7,
   "id": "bd430394",
   "metadata": {
    "scrolled": true
   },
   "outputs": [
    {
     "name": "stdout",
     "output_type": "stream",
     "text": [
      "Sorted by distance:\n",
      "And the shortest distance and time from source to destination is 130647.1 & 7322 \n",
      "\n",
      "Total possible paths from source to destination are 2:\n",
      "\n",
      "All possible paths from source to destination with distance and duration are:\n",
      "\n",
      "LINESTRING (81.00375 16.00042,81.0103 15.99459,81.02257 16.00269,81.01942 16.00803,80.99985 16.01173,80.97661 16.03094,80.92065 16.02402,80.90425 16.04262,80.91701 16.0609,80.9244 16.06346,80.92065 16.08561,80.93154 16.10087,80.92718 16.11045,80.93073 16.11658,80.91248 16.15039,80.90532 16.17697,80.90492 16.19373,80.91349 16.21983,80.91189 16.24857,80.91522 16.25619,80.93581 16.25432,80.96101 16.32372,80.9788 16.3434,81.00351 16.40249,81.00066 16.42917,80.99318 16.43435,80.9769 16.47766,80.95913 16.49689,80.95655 16.5634,80.96073 16.59856,80.97194 16.61391,80.97155 16.63563,80.98089 16.63719,81.0233 16.67774,81.02848 16.71304,81.07938 16.74236,81.13999 16.73711,81.20281 16.7602,81.20801 16.74294,81.22704 16.74247,81.23532 16.73548)\n",
      "130647.1\n",
      "7322\n",
      "\n",
      "\n",
      "LINESTRING (81.00375 16.00042,81.0103 15.99459,81.02257 16.00269,81.01942 16.00803,80.99938 16.01202,80.97909 16.03004,80.92152 16.02382,80.90466 16.03981,80.91688 16.06074,80.9244 16.06346,80.92065 16.08561,80.93154 16.10087,80.92718 16.11045,80.93073 16.11658,80.91248 16.15039,80.90532 16.17697,80.90492 16.19373,80.91349 16.21983,80.91196 16.24884,80.91522 16.25619,80.93581 16.25432,80.94255 16.26674,80.96101 16.32372,80.97761 16.34123,80.99406 16.37561,81.00346 16.40228,81.00091 16.42745,81.00578 16.43231,81.03856 16.42617,81.05484 16.42833,81.06708 16.4381,81.1122 16.42294,81.15046 16.47941,81.15615 16.50977,81.17311 16.52667,81.23061 16.56149,81.29222 16.58036,81.29377 16.58566,81.31778 16.59369,81.30443 16.6252,81.30592 16.64555,81.28517 16.65206,81.2647 16.6486,81.26062 16.6647,81.27488 16.69351,81.27535 16.70805,81.25264 16.73698,81.24444 16.73032,81.23532 16.73548)\n",
      "137752.8\n",
      "8506\n",
      "\n",
      "\n"
     ]
    }
   ],
   "source": [
    "import osrm\n",
    "osrm.RequestConfig.host = \"router.project-osrm.org\"\n",
    "result = osrm.simple_route(\n",
    "                    (81.00,16.00),(81.234,16.734),\n",
    "                      output='route', overview=\"simplified\", geometry='wkt',alternatives=True,continue_straight='default',annotations='false',steps=True)\n",
    "#result[0]['distance'] \n",
    "\n",
    "#for keys,values in result[0].items():\n",
    "    #print(keys)\n",
    "result[0]['duration']\n",
    "#print(type(result[0]))\n",
    "result=sorted(result,key=lambda x:x['distance']) #or sort by duration\n",
    "print(f'Sorted by distance:')\n",
    "k=result[0]['distance']\n",
    "f=result[0]['duration']\n",
    "print(f'And the shortest distance and time from source to destination is {k} & {f} \\n')\n",
    "print(f'Total possible paths from source to destination are {len(result)}:\\n')\n",
    "print(f'All possible paths from source to destination with distance and duration are:\\n')\n",
    "\n",
    "for i in range(len(result)):\n",
    "    print(result[i]['geometry'])\n",
    "    print(result[i]['distance'])\n",
    "    print(result[i]['duration'])\n",
    "    print('\\n')"
   ]
  },
  {
   "cell_type": "markdown",
   "id": "d3b28ee8",
   "metadata": {},
   "source": [
    "# Time Matrix- Table service"
   ]
  },
  {
   "cell_type": "code",
   "execution_count": 3,
   "id": "aba8f606",
   "metadata": {},
   "outputs": [],
   "source": [
    "list_coord = [[11.0566163803209, 32.004088575972],\n",
    "                [11.3856064050746, 32.0094518118189],           [10.9574645547597, 31.5286973392856],\n",
    "               [11.1477394809847, 32.0691482795275],\n",
    "               [11.5506463080973, 32.3532256406286]]"
   ]
  },
  {
   "cell_type": "code",
   "execution_count": 12,
   "id": "2f0e3970",
   "metadata": {},
   "outputs": [
    {
     "name": "stdout",
     "output_type": "stream",
     "text": [
      "2521.1\n"
     ]
    },
    {
     "data": {
      "text/plain": [
       "(         name1    name2    name3    name4    name5\n",
       " name1      0.0   2521.1  11002.2   2419.9  15144.4\n",
       " name2   2524.6      0.0  11455.2   2022.5  12827.3\n",
       " name3  10991.5  11439.7      0.0  11338.5  24063.0\n",
       " name4   2416.0   2019.4  11346.6      0.0  14642.7\n",
       " name5  15139.1  12827.1  24069.7  14637.0      0.0,\n",
       " [[11.031111, 32.002744],\n",
       "  [11.386191, 32.009384],\n",
       "  [10.83003, 31.616112],\n",
       "  [11.125618, 32.049302],\n",
       "  [11.596935, 32.315072]],\n",
       " None)"
      ]
     },
     "execution_count": 12,
     "metadata": {},
     "output_type": "execute_result"
    }
   ],
   "source": [
    "list_id = ['name1', 'name2', 'name3', 'name4', 'name5']\n",
    "time_matrix = osrm.table(list_coord,\n",
    "                                 ids_origin=list_id,\n",
    "                                 output='dataframe')\n",
    "time_matrix[0]\n",
    "#time_matrix[0]\n",
    "r1=osrm.simple_route(\n",
    "                    list_coord[0],list_coord[1],\n",
    "                      output='route', overview=\"simplified\", geometry='wkt',alternatives=True)\n",
    "print(r1[0]['duration'])\n",
    "type(time_matrix[1])\n",
    "time_matrix"
   ]
  },
  {
   "cell_type": "markdown",
   "id": "f4f7c287",
   "metadata": {},
   "source": [
    "# Nearest Service"
   ]
  },
  {
   "cell_type": "code",
   "execution_count": 25,
   "id": "28e42543",
   "metadata": {
    "scrolled": true
   },
   "outputs": [
    {
     "data": {
      "text/plain": [
       "0.1"
      ]
     },
     "execution_count": 25,
     "metadata": {},
     "output_type": "execute_result"
    }
   ],
   "source": [
    "res = osrm.nearest((32.1021271845936,12.5078687005805))\n",
    "res\n",
    "n=osrm.simple_route( [32.1021271845936,12.5078687005805],[32.316629, 12.518199],\n",
    "                      output='route', overview=\"simplified\", geometry='wkt',alternatives=True)\n",
    "n[0]['distance']"
   ]
  },
  {
   "cell_type": "markdown",
   "id": "a833a0ac",
   "metadata": {},
   "source": [
    "# Match Service"
   ]
  },
  {
   "cell_type": "code",
   "execution_count": 13,
   "id": "0ee4f4c3",
   "metadata": {},
   "outputs": [
    {
     "ename": "HTTPError",
     "evalue": "HTTP Error 400: Bad Request",
     "output_type": "error",
     "traceback": [
      "\u001b[1;31m---------------------------------------------------------------------------\u001b[0m",
      "\u001b[1;31mHTTPError\u001b[0m                                 Traceback (most recent call last)",
      "\u001b[1;32mC:\\Users\\ARAVIN~1\\AppData\\Local\\Temp/ipykernel_12084/2937356139.py\u001b[0m in \u001b[0;36m<module>\u001b[1;34m\u001b[0m\n\u001b[0;32m      2\u001b[0m           \u001b[1;33m[\u001b[0m\u001b[1;33m-\u001b[0m\u001b[1;36m33.45239047269638\u001b[0m\u001b[1;33m,\u001b[0m\u001b[1;33m-\u001b[0m\u001b[1;36m70.65300107002258\u001b[0m\u001b[1;33m]\u001b[0m\u001b[1;33m,\u001b[0m\u001b[1;33m\u001b[0m\u001b[1;33m\u001b[0m\u001b[0m\n\u001b[0;32m      3\u001b[0m           [-33.453867464504555,-70.65277576446533]]\n\u001b[1;32m----> 4\u001b[1;33m \u001b[0mresult\u001b[0m \u001b[1;33m=\u001b[0m \u001b[0mosrm\u001b[0m\u001b[1;33m.\u001b[0m\u001b[0mmatch\u001b[0m\u001b[1;33m(\u001b[0m\u001b[0mpoints\u001b[0m\u001b[1;33m,\u001b[0m\u001b[0mgeometry\u001b[0m\u001b[1;33m=\u001b[0m\u001b[1;34m'wkt'\u001b[0m\u001b[1;33m,\u001b[0m\u001b[0moverview\u001b[0m\u001b[1;33m=\u001b[0m\u001b[1;34m'full'\u001b[0m\u001b[1;33m)\u001b[0m\u001b[1;33m\u001b[0m\u001b[1;33m\u001b[0m\u001b[0m\n\u001b[0m",
      "\u001b[1;32m~\\anaconda3\\lib\\site-packages\\osrm\\core.py\u001b[0m in \u001b[0;36mmatch\u001b[1;34m(points, steps, overview, geometry, timestamps, radius, annotations, gaps, tidy, waypoints, url_config)\u001b[0m\n\u001b[0;32m     95\u001b[0m     \u001b[1;32mif\u001b[0m \u001b[0murl_config\u001b[0m\u001b[1;33m.\u001b[0m\u001b[0mauth\u001b[0m\u001b[1;33m:\u001b[0m\u001b[1;33m\u001b[0m\u001b[1;33m\u001b[0m\u001b[0m\n\u001b[0;32m     96\u001b[0m         \u001b[0mreq\u001b[0m\u001b[1;33m.\u001b[0m\u001b[0madd_header\u001b[0m\u001b[1;33m(\u001b[0m\u001b[1;34m\"Authorization\"\u001b[0m\u001b[1;33m,\u001b[0m \u001b[0murl_config\u001b[0m\u001b[1;33m.\u001b[0m\u001b[0mauth\u001b[0m\u001b[1;33m)\u001b[0m\u001b[1;33m\u001b[0m\u001b[1;33m\u001b[0m\u001b[0m\n\u001b[1;32m---> 97\u001b[1;33m     \u001b[0mr\u001b[0m \u001b[1;33m=\u001b[0m \u001b[0murlopen\u001b[0m\u001b[1;33m(\u001b[0m\u001b[0mreq\u001b[0m\u001b[1;33m)\u001b[0m\u001b[1;33m\u001b[0m\u001b[1;33m\u001b[0m\u001b[0m\n\u001b[0m\u001b[0;32m     98\u001b[0m     \u001b[0mr_json\u001b[0m \u001b[1;33m=\u001b[0m \u001b[0mjson\u001b[0m\u001b[1;33m.\u001b[0m\u001b[0mloads\u001b[0m\u001b[1;33m(\u001b[0m\u001b[0mr\u001b[0m\u001b[1;33m.\u001b[0m\u001b[0mread\u001b[0m\u001b[1;33m(\u001b[0m\u001b[1;33m)\u001b[0m\u001b[1;33m.\u001b[0m\u001b[0mdecode\u001b[0m\u001b[1;33m(\u001b[0m\u001b[1;34m'utf-8'\u001b[0m\u001b[1;33m)\u001b[0m\u001b[1;33m)\u001b[0m\u001b[1;33m\u001b[0m\u001b[1;33m\u001b[0m\u001b[0m\n\u001b[0;32m     99\u001b[0m     \u001b[1;32mif\u001b[0m \u001b[1;34m\"code\"\u001b[0m \u001b[1;32mnot\u001b[0m \u001b[1;32min\u001b[0m \u001b[0mr_json\u001b[0m \u001b[1;32mor\u001b[0m \u001b[1;34m\"Ok\"\u001b[0m \u001b[1;32mnot\u001b[0m \u001b[1;32min\u001b[0m \u001b[0mr_json\u001b[0m\u001b[1;33m[\u001b[0m\u001b[1;34m\"code\"\u001b[0m\u001b[1;33m]\u001b[0m\u001b[1;33m:\u001b[0m\u001b[1;33m\u001b[0m\u001b[1;33m\u001b[0m\u001b[0m\n",
      "\u001b[1;32m~\\anaconda3\\lib\\urllib\\request.py\u001b[0m in \u001b[0;36murlopen\u001b[1;34m(url, data, timeout, cafile, capath, cadefault, context)\u001b[0m\n\u001b[0;32m    220\u001b[0m     \u001b[1;32melse\u001b[0m\u001b[1;33m:\u001b[0m\u001b[1;33m\u001b[0m\u001b[1;33m\u001b[0m\u001b[0m\n\u001b[0;32m    221\u001b[0m         \u001b[0mopener\u001b[0m \u001b[1;33m=\u001b[0m \u001b[0m_opener\u001b[0m\u001b[1;33m\u001b[0m\u001b[1;33m\u001b[0m\u001b[0m\n\u001b[1;32m--> 222\u001b[1;33m     \u001b[1;32mreturn\u001b[0m \u001b[0mopener\u001b[0m\u001b[1;33m.\u001b[0m\u001b[0mopen\u001b[0m\u001b[1;33m(\u001b[0m\u001b[0murl\u001b[0m\u001b[1;33m,\u001b[0m \u001b[0mdata\u001b[0m\u001b[1;33m,\u001b[0m \u001b[0mtimeout\u001b[0m\u001b[1;33m)\u001b[0m\u001b[1;33m\u001b[0m\u001b[1;33m\u001b[0m\u001b[0m\n\u001b[0m\u001b[0;32m    223\u001b[0m \u001b[1;33m\u001b[0m\u001b[0m\n\u001b[0;32m    224\u001b[0m \u001b[1;32mdef\u001b[0m \u001b[0minstall_opener\u001b[0m\u001b[1;33m(\u001b[0m\u001b[0mopener\u001b[0m\u001b[1;33m)\u001b[0m\u001b[1;33m:\u001b[0m\u001b[1;33m\u001b[0m\u001b[1;33m\u001b[0m\u001b[0m\n",
      "\u001b[1;32m~\\anaconda3\\lib\\urllib\\request.py\u001b[0m in \u001b[0;36mopen\u001b[1;34m(self, fullurl, data, timeout)\u001b[0m\n\u001b[0;32m    529\u001b[0m         \u001b[1;32mfor\u001b[0m \u001b[0mprocessor\u001b[0m \u001b[1;32min\u001b[0m \u001b[0mself\u001b[0m\u001b[1;33m.\u001b[0m\u001b[0mprocess_response\u001b[0m\u001b[1;33m.\u001b[0m\u001b[0mget\u001b[0m\u001b[1;33m(\u001b[0m\u001b[0mprotocol\u001b[0m\u001b[1;33m,\u001b[0m \u001b[1;33m[\u001b[0m\u001b[1;33m]\u001b[0m\u001b[1;33m)\u001b[0m\u001b[1;33m:\u001b[0m\u001b[1;33m\u001b[0m\u001b[1;33m\u001b[0m\u001b[0m\n\u001b[0;32m    530\u001b[0m             \u001b[0mmeth\u001b[0m \u001b[1;33m=\u001b[0m \u001b[0mgetattr\u001b[0m\u001b[1;33m(\u001b[0m\u001b[0mprocessor\u001b[0m\u001b[1;33m,\u001b[0m \u001b[0mmeth_name\u001b[0m\u001b[1;33m)\u001b[0m\u001b[1;33m\u001b[0m\u001b[1;33m\u001b[0m\u001b[0m\n\u001b[1;32m--> 531\u001b[1;33m             \u001b[0mresponse\u001b[0m \u001b[1;33m=\u001b[0m \u001b[0mmeth\u001b[0m\u001b[1;33m(\u001b[0m\u001b[0mreq\u001b[0m\u001b[1;33m,\u001b[0m \u001b[0mresponse\u001b[0m\u001b[1;33m)\u001b[0m\u001b[1;33m\u001b[0m\u001b[1;33m\u001b[0m\u001b[0m\n\u001b[0m\u001b[0;32m    532\u001b[0m \u001b[1;33m\u001b[0m\u001b[0m\n\u001b[0;32m    533\u001b[0m         \u001b[1;32mreturn\u001b[0m \u001b[0mresponse\u001b[0m\u001b[1;33m\u001b[0m\u001b[1;33m\u001b[0m\u001b[0m\n",
      "\u001b[1;32m~\\anaconda3\\lib\\urllib\\request.py\u001b[0m in \u001b[0;36mhttp_response\u001b[1;34m(self, request, response)\u001b[0m\n\u001b[0;32m    638\u001b[0m         \u001b[1;31m# request was successfully received, understood, and accepted.\u001b[0m\u001b[1;33m\u001b[0m\u001b[1;33m\u001b[0m\u001b[1;33m\u001b[0m\u001b[0m\n\u001b[0;32m    639\u001b[0m         \u001b[1;32mif\u001b[0m \u001b[1;32mnot\u001b[0m \u001b[1;33m(\u001b[0m\u001b[1;36m200\u001b[0m \u001b[1;33m<=\u001b[0m \u001b[0mcode\u001b[0m \u001b[1;33m<\u001b[0m \u001b[1;36m300\u001b[0m\u001b[1;33m)\u001b[0m\u001b[1;33m:\u001b[0m\u001b[1;33m\u001b[0m\u001b[1;33m\u001b[0m\u001b[0m\n\u001b[1;32m--> 640\u001b[1;33m             response = self.parent.error(\n\u001b[0m\u001b[0;32m    641\u001b[0m                 'http', request, response, code, msg, hdrs)\n\u001b[0;32m    642\u001b[0m \u001b[1;33m\u001b[0m\u001b[0m\n",
      "\u001b[1;32m~\\anaconda3\\lib\\urllib\\request.py\u001b[0m in \u001b[0;36merror\u001b[1;34m(self, proto, *args)\u001b[0m\n\u001b[0;32m    567\u001b[0m         \u001b[1;32mif\u001b[0m \u001b[0mhttp_err\u001b[0m\u001b[1;33m:\u001b[0m\u001b[1;33m\u001b[0m\u001b[1;33m\u001b[0m\u001b[0m\n\u001b[0;32m    568\u001b[0m             \u001b[0margs\u001b[0m \u001b[1;33m=\u001b[0m \u001b[1;33m(\u001b[0m\u001b[0mdict\u001b[0m\u001b[1;33m,\u001b[0m \u001b[1;34m'default'\u001b[0m\u001b[1;33m,\u001b[0m \u001b[1;34m'http_error_default'\u001b[0m\u001b[1;33m)\u001b[0m \u001b[1;33m+\u001b[0m \u001b[0morig_args\u001b[0m\u001b[1;33m\u001b[0m\u001b[1;33m\u001b[0m\u001b[0m\n\u001b[1;32m--> 569\u001b[1;33m             \u001b[1;32mreturn\u001b[0m \u001b[0mself\u001b[0m\u001b[1;33m.\u001b[0m\u001b[0m_call_chain\u001b[0m\u001b[1;33m(\u001b[0m\u001b[1;33m*\u001b[0m\u001b[0margs\u001b[0m\u001b[1;33m)\u001b[0m\u001b[1;33m\u001b[0m\u001b[1;33m\u001b[0m\u001b[0m\n\u001b[0m\u001b[0;32m    570\u001b[0m \u001b[1;33m\u001b[0m\u001b[0m\n\u001b[0;32m    571\u001b[0m \u001b[1;31m# XXX probably also want an abstract factory that knows when it makes\u001b[0m\u001b[1;33m\u001b[0m\u001b[1;33m\u001b[0m\u001b[1;33m\u001b[0m\u001b[0m\n",
      "\u001b[1;32m~\\anaconda3\\lib\\urllib\\request.py\u001b[0m in \u001b[0;36m_call_chain\u001b[1;34m(self, chain, kind, meth_name, *args)\u001b[0m\n\u001b[0;32m    500\u001b[0m         \u001b[1;32mfor\u001b[0m \u001b[0mhandler\u001b[0m \u001b[1;32min\u001b[0m \u001b[0mhandlers\u001b[0m\u001b[1;33m:\u001b[0m\u001b[1;33m\u001b[0m\u001b[1;33m\u001b[0m\u001b[0m\n\u001b[0;32m    501\u001b[0m             \u001b[0mfunc\u001b[0m \u001b[1;33m=\u001b[0m \u001b[0mgetattr\u001b[0m\u001b[1;33m(\u001b[0m\u001b[0mhandler\u001b[0m\u001b[1;33m,\u001b[0m \u001b[0mmeth_name\u001b[0m\u001b[1;33m)\u001b[0m\u001b[1;33m\u001b[0m\u001b[1;33m\u001b[0m\u001b[0m\n\u001b[1;32m--> 502\u001b[1;33m             \u001b[0mresult\u001b[0m \u001b[1;33m=\u001b[0m \u001b[0mfunc\u001b[0m\u001b[1;33m(\u001b[0m\u001b[1;33m*\u001b[0m\u001b[0margs\u001b[0m\u001b[1;33m)\u001b[0m\u001b[1;33m\u001b[0m\u001b[1;33m\u001b[0m\u001b[0m\n\u001b[0m\u001b[0;32m    503\u001b[0m             \u001b[1;32mif\u001b[0m \u001b[0mresult\u001b[0m \u001b[1;32mis\u001b[0m \u001b[1;32mnot\u001b[0m \u001b[1;32mNone\u001b[0m\u001b[1;33m:\u001b[0m\u001b[1;33m\u001b[0m\u001b[1;33m\u001b[0m\u001b[0m\n\u001b[0;32m    504\u001b[0m                 \u001b[1;32mreturn\u001b[0m \u001b[0mresult\u001b[0m\u001b[1;33m\u001b[0m\u001b[1;33m\u001b[0m\u001b[0m\n",
      "\u001b[1;32m~\\anaconda3\\lib\\urllib\\request.py\u001b[0m in \u001b[0;36mhttp_error_default\u001b[1;34m(self, req, fp, code, msg, hdrs)\u001b[0m\n\u001b[0;32m    647\u001b[0m \u001b[1;32mclass\u001b[0m \u001b[0mHTTPDefaultErrorHandler\u001b[0m\u001b[1;33m(\u001b[0m\u001b[0mBaseHandler\u001b[0m\u001b[1;33m)\u001b[0m\u001b[1;33m:\u001b[0m\u001b[1;33m\u001b[0m\u001b[1;33m\u001b[0m\u001b[0m\n\u001b[0;32m    648\u001b[0m     \u001b[1;32mdef\u001b[0m \u001b[0mhttp_error_default\u001b[0m\u001b[1;33m(\u001b[0m\u001b[0mself\u001b[0m\u001b[1;33m,\u001b[0m \u001b[0mreq\u001b[0m\u001b[1;33m,\u001b[0m \u001b[0mfp\u001b[0m\u001b[1;33m,\u001b[0m \u001b[0mcode\u001b[0m\u001b[1;33m,\u001b[0m \u001b[0mmsg\u001b[0m\u001b[1;33m,\u001b[0m \u001b[0mhdrs\u001b[0m\u001b[1;33m)\u001b[0m\u001b[1;33m:\u001b[0m\u001b[1;33m\u001b[0m\u001b[1;33m\u001b[0m\u001b[0m\n\u001b[1;32m--> 649\u001b[1;33m         \u001b[1;32mraise\u001b[0m \u001b[0mHTTPError\u001b[0m\u001b[1;33m(\u001b[0m\u001b[0mreq\u001b[0m\u001b[1;33m.\u001b[0m\u001b[0mfull_url\u001b[0m\u001b[1;33m,\u001b[0m \u001b[0mcode\u001b[0m\u001b[1;33m,\u001b[0m \u001b[0mmsg\u001b[0m\u001b[1;33m,\u001b[0m \u001b[0mhdrs\u001b[0m\u001b[1;33m,\u001b[0m \u001b[0mfp\u001b[0m\u001b[1;33m)\u001b[0m\u001b[1;33m\u001b[0m\u001b[1;33m\u001b[0m\u001b[0m\n\u001b[0m\u001b[0;32m    650\u001b[0m \u001b[1;33m\u001b[0m\u001b[0m\n\u001b[0;32m    651\u001b[0m \u001b[1;32mclass\u001b[0m \u001b[0mHTTPRedirectHandler\u001b[0m\u001b[1;33m(\u001b[0m\u001b[0mBaseHandler\u001b[0m\u001b[1;33m)\u001b[0m\u001b[1;33m:\u001b[0m\u001b[1;33m\u001b[0m\u001b[1;33m\u001b[0m\u001b[0m\n",
      "\u001b[1;31mHTTPError\u001b[0m: HTTP Error 400: Bad Request"
     ]
    }
   ],
   "source": [
    "points = [[-33.45017046193167,-70.65281867980957],\n",
    "          [-33.45239047269638,-70.65300107002258],\n",
    "          [-33.453867464504555,-70.65277576446533]]\n",
    "result = osrm.match(points,geometry='wkt',overview='full')"
   ]
  },
  {
   "cell_type": "markdown",
   "id": "714aac43",
   "metadata": {},
   "source": [
    "# Accessibility isochrones"
   ]
  },
  {
   "cell_type": "code",
   "execution_count": 8,
   "id": "818ee1ec",
   "metadata": {},
   "outputs": [],
   "source": [
    " Accessibility = osrm.AccessIsochrone((20.99,32.55), points_grid=450)\n"
   ]
  },
  {
   "cell_type": "code",
   "execution_count": 9,
   "id": "6f290330",
   "metadata": {},
   "outputs": [
    {
     "data": {
      "text/plain": [
       "<AxesSubplot:>"
      ]
     },
     "execution_count": 9,
     "metadata": {},
     "output_type": "execute_result"
    },
    {
     "data": {
      "image/png": "[encoded data removed]",
      "text/plain": [
       "<Figure size 432x288 with 1 Axes>"
      ]
     },
     "metadata": {
      "needs_background": "light"
     },
     "output_type": "display_data"
    }
   ],
   "source": [
    "Accessibility.grid.plot()"
   ]
  },
  {
   "cell_type": "code",
   "execution_count": null,
   "id": "fe6befdc",
   "metadata": {},
   "outputs": [],
   "source": []
  }
 ],
 "metadata": {
  "kernelspec": {
   "display_name": "Python 3 (ipykernel)",
   "language": "python",
   "name": "python3"
  },
  "language_info": {
   "codemirror_mode": {
    "name": "ipython",
    "version": 3
   },
   "file_extension": ".py",
   "mimetype": "text/x-python",
   "name": "python",
   "nbconvert_exporter": "python",
   "pygments_lexer": "ipython3",
   "version": "3.8.11"
  }
 },
 "nbformat": 4,
 "nbformat_minor": 5
}
